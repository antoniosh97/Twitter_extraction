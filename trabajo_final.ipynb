{
 "cells": [
  {
   "cell_type": "code",
   "execution_count": 1,
   "metadata": {},
   "outputs": [],
   "source": [
    "####input your credentials here\n",
    "consumer_key = '*******************************************'\n",
    "consumer_secret = '*******************************************'\n",
    "access_token = '*******************************************'\n",
    "access_token_secret = '*******************************************'"
   ]
  },
  {
   "cell_type": "code",
   "execution_count": 2,
   "metadata": {},
   "outputs": [],
   "source": [
    "import tweepy"
   ]
  },
  {
   "cell_type": "code",
   "execution_count": 3,
   "metadata": {},
   "outputs": [],
   "source": [
    "# Preparamos la autenticación\n",
    "auth = tweepy.OAuthHandler(consumer_key, consumer_secret)\n",
    "auth.set_access_token(access_token, access_token_secret)#creamos un autentificador que contiene nuestras claves\n",
    "\n",
    "# Preparamos el módulo api de Tweepy (que es el que nos va a ayudar a hacer las \"preguntas\" a la API)\n",
    "api = tweepy.API(auth)"
   ]
  },
  {
   "cell_type": "code",
   "execution_count": 4,
   "metadata": {},
   "outputs": [],
   "source": [
    "import datetime\n",
    "startDate= datetime.datetime(2020,11,21,0,0,0)\n",
    "endDate = datetime.datetime(2020,11,23,0,0,0)"
   ]
  },
  {
   "cell_type": "code",
   "execution_count": 16,
   "metadata": {},
   "outputs": [],
   "source": [
    "# Importamos PyMongo\n",
    "from pymongo import MongoClient\n",
    "\n",
    "# Creamos una conexión con la BBDD\n",
    "client = MongoClient()\n",
    "           \n",
    "# Usamos una base de datos llamada test\n",
    "db = client.test"
   ]
  },
  {
   "cell_type": "code",
   "execution_count": null,
   "metadata": {},
   "outputs": [],
   "source": [
    "for tweet in tweepy.Cursor(api.search,q=(\"#AMAs2020 OR #AMAs\"),count=100,\n",
    "                   tweet_mode= 'extended',start = startDate, until = endDate).items(40000):\n",
    "    db.tweets.insert_one(tweet._json)"
   ]
  },
  {
   "cell_type": "code",
   "execution_count": 40,
   "metadata": {},
   "outputs": [],
   "source": [
    "import networkx as nx\n",
    "\n",
    "G = nx.DiGraph()\n",
    "\n",
    "\n",
    "for result in db.tweets.find():\n",
    "\n",
    "            uid = result['user']['screen_name']\n",
    "            G.add_node(uid) # si ya existe lo omite solo\n",
    "            \n",
    "            # Hay más casuísticas, pero por ejemplo, con el retweeted_status (es decir, un user ha RT a otro)\n",
    "            if 'retweeted_status' in result:\n",
    "                if G.has_edge(uid, result['retweeted_status']['user']['screen_name']):\n",
    "                    G[uid][result['retweeted_status']['user']['screen_name']]['weight'] += 1.0\n",
    "                else:\n",
    "                    G.add_edge(uid, result['retweeted_status']['user']['screen_name'], weight = 1.0) \n",
    "            \n",
    "for result in db.tweets.find():\n",
    "        #vemos si hay personas mencionadas en el tuit\n",
    "        if 'entities' in result:\n",
    "            try: #si no hay nadie mencionado simplemente lo omite\n",
    "                for i in range(len(result['entities']['user_mentions'][1]['screen_name'])):\n",
    "                    G.add_node(result['entities']['user_mentions'][0]['screen_name'])\n",
    "                    G.add_node(result['entities']['user_mentions'][i]['screen_name'])\n",
    "                    if G.has_edge(result['entities']['user_mentions'][0]['screen_name'], result['entities']['user_mentions'][1]['screen_name'][i]):\n",
    "                        G[result['entities']['user_mentions'][0]['screen_name']][result['entities']['user_mentions'][1]['screen_name'][i]]['weight'] += 1.0\n",
    "                    else:\n",
    "                        G.add_edge(result['entities']['user_mentions'][0]['screen_name'], result['entities']['user_mentions'][1]['screen_name'][i], weight = 1.0) \n",
    "            except: \n",
    "                continue\n",
    "                \n",
    "for result in db.tweets.find():\n",
    "    uid = result['user']['screen_name']\n",
    "    #si es una respuesta a un twit\n",
    "    if result['in_reply_to_screen_name'] != 'null':\n",
    "        G.add_node(result['in_reply_to_screen_name'])\n",
    "        if G.has_edge(uid, result['in_reply_to_screen_name']):\n",
    "            G[uid][result['in_reply_to_screen_name']]['weight'] += 1.0\n",
    "        else:\n",
    "            G.add_edge(uid, result['in_reply_to_screen_name'], weight = 1.0)\n",
    "\n"
   ]
  },
  {
   "cell_type": "code",
   "execution_count": 42,
   "metadata": {},
   "outputs": [],
   "source": [
    "nx.write_graphml(G, \"AMAs.graphml\")\n"
   ]
  },
  {
   "cell_type": "code",
   "execution_count": null,
   "metadata": {},
   "outputs": [],
   "source": [
    "len(G)"
   ]
  },
  {
   "cell_type": "code",
   "execution_count": 31,
   "metadata": {},
   "outputs": [],
   "source": [
    "G.clear()"
   ]
  },
  {
   "cell_type": "code",
   "execution_count": null,
   "metadata": {},
   "outputs": [],
   "source": []
  }
 ],
 "metadata": {
  "kernelspec": {
   "display_name": "Python 3",
   "language": "python",
   "name": "python3"
  },
  "language_info": {
   "codemirror_mode": {
    "name": "ipython",
    "version": 3
   },
   "file_extension": ".py",
   "mimetype": "text/x-python",
   "name": "python",
   "nbconvert_exporter": "python",
   "pygments_lexer": "ipython3",
   "version": "3.8.3"
  }
 },
 "nbformat": 4,
 "nbformat_minor": 4
}
